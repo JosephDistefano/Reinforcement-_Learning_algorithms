{
 "cells": [
  {
   "cell_type": "markdown",
   "metadata": {},
   "source": [
    "# Final Project A2C\n",
    "\n",
    "Original code wrote by:\n",
    "Joseph Distefano(jpdistef@buffalo.edu)\n"
   ]
  },
  {
   "cell_type": "code",
   "execution_count": 27,
   "metadata": {},
   "outputs": [],
   "source": [
    "# !pip install torch\n",
    "# !pip install numpy\n",
    "# !pip install matplotlib\n",
    "# !pip install gym\n",
    "# !pip install random \n",
    "# !pip install time\n",
    "# !pip install box2d-py"
   ]
  },
  {
   "cell_type": "code",
   "execution_count": 28,
   "metadata": {},
   "outputs": [],
   "source": [
    "import numpy as np\n",
    "import matplotlib.pyplot as plt\n",
    "import gym\n",
    "from gym import spaces\n",
    "import random\n",
    "import time\n",
    "import math\n",
    "\n",
    "\n",
    "import torch\n",
    "import torch.optim as optim\n",
    "import torch.nn as nn\n",
    "import torch.nn.functional as F\n",
    "from collections import deque, namedtuple\n",
    "\n",
    "# from keras.models import Sequential\n",
    "# from keras.layers import *\n",
    "# from keras.optimizers import *\n",
    "\n",
    "import matplotlib\n",
    "import matplotlib.pyplot as plt\n",
    "from matplotlib.image import imread\n",
    "from matplotlib import rc, animation\n",
    "from IPython import display\n",
    "from IPython.display import HTML\n",
    "%matplotlib inline\n"
   ]
  },
  {
   "cell_type": "code",
   "execution_count": 29,
   "metadata": {},
   "outputs": [],
   "source": [
    "class A2Cmodel(nn.Module):\n",
    "    def __init__(self,state_size,action_size,actor = False,critic = False):\n",
    "        super().__init__()\n",
    "        self.linear1 = nn.Linear(state_size,64)\n",
    "        self.linear2 = nn.Linear(64,32)\n",
    "        \n",
    "        if actor:\n",
    "            self.actor = nn.Linear(32,action_size)\n",
    "            self.softmax = nn.Softmax()\n",
    "        if critic:\n",
    "            self.critic = nn.Linear(32,1)\n",
    "        \n",
    "    def forward(self,state,actor = False,critic = False):\n",
    "        out = self.linear1(state)\n",
    "        out = F.relu(out)\n",
    "        out = self.linear2(out)\n",
    "        out = F.relu(out)\n",
    "        \n",
    "        if actor:\n",
    "            actorx = self.actor(out)\n",
    "            actorx = self.softmax(actorx)\n",
    "            return actorx\n",
    "        if critic:\n",
    "            criticx =self.critic(out)\n",
    "            return criticx\n",
    "        "
   ]
  },
  {
   "cell_type": "code",
   "execution_count": 30,
   "metadata": {},
   "outputs": [],
   "source": [
    "class A2Cagent():\n",
    "    def __init__(self,state_size,action_size,lr):\n",
    "        self.actor = A2Cmodel(state_size,action_size,actor =True,critic = False) \n",
    "        self.critic = A2Cmodel(state_size,action_size,actor =False,critic = True) \n",
    "        self.optimizer_actor = torch.optim.Adam(self.actor.parameters(), lr=lr)\n",
    "        self.optimizer_critic = torch.optim.Adam(self.critic.parameters(), lr=lr)\n",
    "        \n",
    "    def get_action(self,state):\n",
    "        \n",
    "        probs = self.actor(t(state),actor =True,critic = False)\n",
    "        dist = torch.distributions.Categorical(probs=probs)\n",
    "        action = dist.sample()\n",
    "        return action,dist\n",
    "    \n",
    "    def update(self,advantage,action,dist):\n",
    "        critic_loss = advantage.pow(2).mean()\n",
    "        self.optimizer_critic.zero_grad()\n",
    "        critic_loss.backward()\n",
    "        self.optimizer_critic.step()\n",
    "\n",
    "        actor_loss = -dist.log_prob(action)*advantage.detach()\n",
    "        self.optimizer_actor.zero_grad()\n",
    "        actor_loss.backward()\n",
    "        self.optimizer_actor.step()\n",
    "\n",
    "    def get_advantage(self,reward,done,gamma,next_state,state):\n",
    "        advantage = reward + (1-done)*gamma*self.critic(t(next_state),actor=False,critic=True) - self.critic(t(state),actor=False,critic=True)\n",
    "        return advantage"
   ]
  },
  {
   "cell_type": "code",
   "execution_count": 31,
   "metadata": {},
   "outputs": [],
   "source": [
    "def t(x): return torch.from_numpy(np.asarray(x)).float()"
   ]
  },
  {
   "cell_type": "code",
   "execution_count": 32,
   "metadata": {},
   "outputs": [],
   "source": [
    "env = gym.make(\"CartPole-v1\")\n",
    "env.reset()\n",
    "# plt.imshow(env.render('rgb_array'))\n",
    "\n",
    "state_size = env.observation_space.shape[0]\n",
    "action_size = env.action_space.n\n"
   ]
  },
  {
   "cell_type": "code",
   "execution_count": 23,
   "metadata": {},
   "outputs": [],
   "source": [
    "env = gym.make('LunarLander-v2')\n",
    "env.reset()\n",
    "# plt.imshow(env.render('rgb_array'))\n",
    "state_size = env.observation_space.shape[0]\n",
    "action_size = env.action_space.n"
   ]
  },
  {
   "cell_type": "code",
   "execution_count": 33,
   "metadata": {},
   "outputs": [
    {
     "name": "stderr",
     "output_type": "stream",
     "text": [
      "/snap/jupyter/6/lib/python3.7/site-packages/ipykernel_launcher.py:21: UserWarning: Implicit dimension choice for softmax has been deprecated. Change the call to include dim=X as an argument.\n"
     ]
    },
    {
     "name": "stdout",
     "output_type": "stream",
     "text": [
      "Episode 0\n",
      "Last Episode Reward: 12.0\n",
      "----------\n",
      "Episode 100\n",
      "Last Episode Reward: 41.0\n",
      "----------\n",
      "Episode 200\n",
      "Last Episode Reward: 500.0\n",
      "----------\n",
      "Episode 300\n",
      "Last Episode Reward: 179.0\n",
      "----------\n",
      "Episode 400\n",
      "Last Episode Reward: 147.0\n",
      "----------\n"
     ]
    }
   ],
   "source": [
    "num_episodes = 500\n",
    "lr = 0.001\n",
    "agent = A2Cagent(state_size,action_size,lr)\n",
    "gamma = 0.99\n",
    "\n",
    "episode_rewards = []\n",
    "\n",
    "for episode in range(num_episodes):\n",
    "    state = env.reset()\n",
    "    total_reward = 0\n",
    "    done = False\n",
    "\n",
    "    while not done:\n",
    "        action,dist = agent.get_action(state)\n",
    "        next_state, reward, done, info = env.step(action.detach().data.numpy())\n",
    "\n",
    "        advantage = agent.get_advantage(reward,done,gamma,next_state,state)\n",
    "        \n",
    "        total_reward += reward\n",
    "        state = next_state\n",
    "        agent.update(advantage,action,dist)\n",
    "\n",
    "        if done: \n",
    "            break\n",
    "    \n",
    "    episode_rewards.append(total_reward)\n",
    "    \n",
    "    if episode % 100 == 0:\n",
    "        \n",
    "        print('Episode {}'.format(episode))\n",
    "        print('Last Episode Reward: {}'.format(total_reward))\n",
    "        print('-'*10)\n",
    "\n"
   ]
  },
  {
   "cell_type": "code",
   "execution_count": 34,
   "metadata": {},
   "outputs": [
    {
     "data": {
      "image/png": "[encoded data removed]",
      "text/plain": [
       "<Figure size 432x288 with 1 Axes>"
      ]
     },
     "metadata": {
      "needs_background": "light"
     },
     "output_type": "display_data"
    }
   ],
   "source": [
    "plt.plot(episode_rewards)\n",
    "plt.title(\"Total reward per episode\")\n",
    "plt.ylabel(\"reward\")\n",
    "plt.xlabel(\"episode\")\n",
    "plt.show()"
   ]
  },
  {
   "cell_type": "code",
   "execution_count": null,
   "metadata": {},
   "outputs": [],
   "source": []
  },
  {
   "cell_type": "code",
   "execution_count": 35,
   "metadata": {},
   "outputs": [],
   "source": [
    "np.save('A2C_cartpole',episode_rewards)"
   ]
  },
  {
   "cell_type": "code",
   "execution_count": null,
   "metadata": {},
   "outputs": [],
   "source": []
  }
 ],
 "metadata": {
  "kernelspec": {
   "display_name": "Python 3",
   "language": "python",
   "name": "python3"
  },
  "language_info": {
   "codemirror_mode": {
    "name": "ipython",
    "version": 3
   },
   "file_extension": ".py",
   "mimetype": "text/x-python",
   "name": "python",
   "nbconvert_exporter": "python",
   "pygments_lexer": "ipython3",
   "version": "3.7.3"
  }
 },
 "nbformat": 4,
 "nbformat_minor": 4
}
