{
 "cells": [
  {
   "cell_type": "markdown",
   "metadata": {},
   "source": [
    "# FInal Project REINFORCE\n",
    "\n",
    "Original code wrote by:\n",
    "Joseph Distefano(jpdistef@buffalo.edu)\n"
   ]
  },
  {
   "cell_type": "code",
   "execution_count": 23,
   "metadata": {},
   "outputs": [],
   "source": [
    "# !pip install torch\n",
    "# !pip install numpy\n",
    "# !pip install matplotlib\n",
    "# !pip install gym\n",
    "# !pip install random \n",
    "# !pip install time\n",
    "# !pip install box2d-py"
   ]
  },
  {
   "cell_type": "code",
   "execution_count": 24,
   "metadata": {},
   "outputs": [],
   "source": [
    "import numpy as np\n",
    "import matplotlib.pyplot as plt\n",
    "import gym\n",
    "from gym import spaces\n",
    "import random\n",
    "import time\n",
    "import math\n",
    "\n",
    "\n",
    "import torch\n",
    "import torch.optim as optim\n",
    "import torch.nn as nn\n",
    "import torch.nn.functional as F\n",
    "from collections import deque, namedtuple\n",
    "\n",
    "# from keras.models import Sequential\n",
    "# from keras.layers import *\n",
    "# from keras.optimizers import *\n",
    "\n",
    "import matplotlib\n",
    "import matplotlib.pyplot as plt\n",
    "from matplotlib.image import imread\n",
    "from matplotlib import rc, animation\n",
    "from IPython import display\n",
    "from IPython.display import HTML\n",
    "%matplotlib inline\n"
   ]
  },
  {
   "cell_type": "code",
   "execution_count": 25,
   "metadata": {},
   "outputs": [],
   "source": [
    "class REINFORCEmodel(nn.Module):\n",
    "    def __init__(self,state_size,action_size):\n",
    "        super(REINFORCEmodel,self).__init__()\n",
    "        self.linear1 = nn.Linear(state_size,64)\n",
    "        self.linear2 = nn.Linear(64,32)\n",
    "        self.linear3 = nn.Linear(32,action_size)\n",
    "        self.softmax = nn.Softmax()\n",
    "        \n",
    "    def forward(self,state):\n",
    "        out = self.linear1(state)\n",
    "        out = F.relu(out)\n",
    "        out = self.linear2(out)\n",
    "        out = F.relu(out)\n",
    "        out = self.linear3(out)\n",
    "        out = self.softmax(out)\n",
    "        return out\n",
    "        "
   ]
  },
  {
   "cell_type": "code",
   "execution_count": 26,
   "metadata": {},
   "outputs": [],
   "source": [
    "class REINFORCEagent():\n",
    "    def __init__(self,state_size,action_size,lr):\n",
    "        self.model = REINFORCEmodel(state_size,action_size) \n",
    "        self.model_opti = torch.optim.Adam(self.model.parameters(), lr=lr)\n",
    "        \n",
    "    def get_action(self,state):\n",
    "        state = torch.from_numpy(state).float().unsqueeze(0)\n",
    "        probs = self.model(state)\n",
    "        dist = torch.distributions.Categorical(probs=probs)\n",
    "        action = dist.sample()\n",
    "        logprob = dist.log_prob(action)\n",
    "        return action, logprob\n",
    "    \n",
    "    def update(self,action,logprobs,gamma):\n",
    "        discounted_rewards = []\n",
    "        \n",
    "        for i in range(len(rewards)):\n",
    "            Gt = 0\n",
    "            count = 0\n",
    "            for r in rewards[i:]:\n",
    "                Gt = Gt + gamma**count * r\n",
    "                count = count + 1\n",
    "            discounted_rewards.append(Gt)\n",
    "        \n",
    "        discounted_rewards = torch.tensor(discounted_rewards)\n",
    "        \n",
    "        policy_gradient = []\n",
    "        for logprob, Gt in zip(logprobs,discounted_rewards):\n",
    "            policy_gradient.append(-logprob *Gt)\n",
    "        \n",
    "        self.model_opti.zero_grad()\n",
    "        policy_gradients = torch.stack(policy_gradient).sum()\n",
    "        policy_gradients.backward()\n",
    "        self.model_opti.step()\n",
    "        "
   ]
  },
  {
   "cell_type": "code",
   "execution_count": 27,
   "metadata": {},
   "outputs": [],
   "source": [
    "env = gym.make(\"CartPole-v1\")\n",
    "env.reset()\n",
    "# plt.imshow(env.render('rgb_array'/))\n",
    "\n",
    "state_size = env.observation_space.shape[0]\n",
    "action_size = env.action_space.n"
   ]
  },
  {
   "cell_type": "code",
   "execution_count": 19,
   "metadata": {},
   "outputs": [],
   "source": [
    "env = gym.make('LunarLander-v2')\n",
    "env.reset()\n",
    "# plt.imshow(env.render('rgb_array'))\n",
    "state_size = env.observation_space.shape[0]\n",
    "action_size = env.action_space.n"
   ]
  },
  {
   "cell_type": "code",
   "execution_count": 28,
   "metadata": {},
   "outputs": [
    {
     "name": "stderr",
     "output_type": "stream",
     "text": [
      "/snap/jupyter/6/lib/python3.7/site-packages/ipykernel_launcher.py:15: UserWarning: Implicit dimension choice for softmax has been deprecated. Change the call to include dim=X as an argument.\n",
      "  from ipykernel import kernelapp as app\n"
     ]
    },
    {
     "name": "stdout",
     "output_type": "stream",
     "text": [
      "Episode 0\n",
      "Last Episode Reward: 24.0\n",
      "----------\n",
      "Episode 100\n",
      "Last Episode Reward: 41.0\n",
      "----------\n",
      "Episode 200\n",
      "Last Episode Reward: 99.0\n",
      "----------\n",
      "Episode 300\n",
      "Last Episode Reward: 318.0\n",
      "----------\n",
      "Episode 400\n",
      "Last Episode Reward: 109.0\n",
      "----------\n",
      "Episode 500\n",
      "Last Episode Reward: 404.0\n",
      "----------\n",
      "Episode 600\n",
      "Last Episode Reward: 132.0\n",
      "----------\n",
      "Episode 700\n",
      "Last Episode Reward: 175.0\n",
      "----------\n",
      "Episode 800\n",
      "Last Episode Reward: 500.0\n",
      "----------\n",
      "Episode 900\n",
      "Last Episode Reward: 263.0\n",
      "----------\n",
      "Episode 1000\n",
      "Last Episode Reward: 116.0\n",
      "----------\n",
      "Episode 1100\n",
      "Last Episode Reward: 137.0\n",
      "----------\n",
      "Episode 1200\n",
      "Last Episode Reward: 117.0\n",
      "----------\n",
      "Episode 1300\n",
      "Last Episode Reward: 120.0\n",
      "----------\n",
      "Episode 1400\n",
      "Last Episode Reward: 111.0\n",
      "----------\n",
      "Episode 1500\n",
      "Last Episode Reward: 134.0\n",
      "----------\n",
      "Episode 1600\n",
      "Last Episode Reward: 69.0\n",
      "----------\n",
      "Episode 1700\n",
      "Last Episode Reward: 138.0\n",
      "----------\n",
      "Episode 1800\n",
      "Last Episode Reward: 117.0\n",
      "----------\n",
      "Episode 1900\n",
      "Last Episode Reward: 138.0\n",
      "----------\n"
     ]
    }
   ],
   "source": [
    "num_episodes = 2000\n",
    "lr = 0.001\n",
    "agent = REINFORCEagent(state_size,action_size,lr)\n",
    "gamma = 0.99\n",
    "\n",
    "episode_rewards = []\n",
    "rewards = []\n",
    "for episode in range(num_episodes):\n",
    "    state = env.reset()\n",
    "    rewards = []\n",
    "    done = False\n",
    "    logprobs = []\n",
    "\n",
    "    while not done:\n",
    "        action,logprob = agent.get_action(state)\n",
    "        next_state, reward, done, info = env.step(action[0].detach().data.numpy())\n",
    "        logprobs.append(logprob)\n",
    "        rewards.append(reward)\n",
    "        state = next_state\n",
    "        if done:\n",
    "            agent.update(rewards,logprobs,gamma)\n",
    "\n",
    "    episode_rewards.append(np.sum(rewards))\n",
    "    if episode % 100 == 0:\n",
    "        \n",
    "        print('Episode {}'.format(episode))\n",
    "        print('Last Episode Reward: {}'.format(np.sum(rewards)))\n",
    "        print('-'*10)\n",
    "\n"
   ]
  },
  {
   "cell_type": "code",
   "execution_count": 29,
   "metadata": {},
   "outputs": [
    {
     "data": {
      "image/png": "[encoded data removed]",
      "text/plain": [
       "<Figure size 432x288 with 1 Axes>"
      ]
     },
     "metadata": {
      "needs_background": "light"
     },
     "output_type": "display_data"
    }
   ],
   "source": [
    "plt.plot(episode_rewards)\n",
    "plt.title(\"Total reward per episode\")\n",
    "plt.ylabel(\"reward\")\n",
    "plt.xlabel(\"episode\")\n",
    "plt.show()"
   ]
  },
  {
   "cell_type": "code",
   "execution_count": 30,
   "metadata": {},
   "outputs": [],
   "source": [
    "np.save('REINFORCE_cartpole',episode_rewards)"
   ]
  },
  {
   "cell_type": "code",
   "execution_count": null,
   "metadata": {},
   "outputs": [],
   "source": []
  }
 ],
 "metadata": {
  "kernelspec": {
   "display_name": "Python 3",
   "language": "python",
   "name": "python3"
  },
  "language_info": {
   "codemirror_mode": {
    "name": "ipython",
    "version": 3
   },
   "file_extension": ".py",
   "mimetype": "text/x-python",
   "name": "python",
   "nbconvert_exporter": "python",
   "pygments_lexer": "ipython3",
   "version": "3.7.3"
  }
 },
 "nbformat": 4,
 "nbformat_minor": 4
}
