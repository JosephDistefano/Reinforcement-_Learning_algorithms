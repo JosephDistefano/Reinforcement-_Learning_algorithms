{
 "cells": [
  {
   "cell_type": "markdown",
   "metadata": {},
   "source": [
    "# Final Project Proximal Policy Optimization\n",
    "\n",
    "Original code wrote by:\n",
    "Joseph Distefano(jpdistef@buffalo.edu)\n"
   ]
  },
  {
   "cell_type": "code",
   "execution_count": 1,
   "metadata": {},
   "outputs": [],
   "source": [
    "# !pip install torch\n",
    "# !pip install numpy\n",
    "# !pip install matplotlib\n",
    "# !pip install gym\n",
    "# !pip install random \n",
    "# !pip install time\n",
    "# !pip install box2d-py"
   ]
  },
  {
   "cell_type": "code",
   "execution_count": 4,
   "metadata": {},
   "outputs": [],
   "source": [
    "import numpy as np\n",
    "import matplotlib.pyplot as plt\n",
    "import gym\n",
    "from gym import spaces\n",
    "import random\n",
    "import time\n",
    "import math\n",
    "\n",
    "\n",
    "import torch\n",
    "import torch.optim as optim\n",
    "import torch.nn as nn\n",
    "import torch.nn.functional as F\n",
    "from collections import deque, namedtuple\n",
    "from torch.distributions import Categorical\n",
    "\n",
    "# from keras.models import Sequential\n",
    "# from keras.layers import *\n",
    "# from keras.optimizers import *\n",
    "\n",
    "import matplotlib\n",
    "import matplotlib.pyplot as plt\n",
    "from matplotlib.image import imread\n",
    "from matplotlib import rc, animation\n",
    "from IPython import display\n",
    "from IPython.display import HTML\n",
    "%matplotlib inline\n"
   ]
  },
  {
   "cell_type": "code",
   "execution_count": 5,
   "metadata": {},
   "outputs": [],
   "source": [
    "class Critic(nn.Module):\n",
    "    def __init__(self,state_size,action_size):\n",
    "        super(Critic,self).__init__()\n",
    "        self.linear1 = nn.Linear(state_size,32)\n",
    "        self.linear2 = nn.Linear(32,64)\n",
    "        self.linear3 = nn.Linear(64,1)\n",
    "        \n",
    "    def forward(self,state):\n",
    "        out = F.relu(self.linear1(state))\n",
    "        out = F.relu(self.linear2(out))\n",
    "        out = self.linear3(out)\n",
    "        return out\n",
    "        \n",
    "class Actor(nn.Module):\n",
    "    def __init__(self,state_size,action_size):\n",
    "        super(Actor,self).__init__()\n",
    "        self.linear1 = nn.Linear(state_size,32)\n",
    "        self.linear2 = nn.Linear(32,64)\n",
    "        self.linear3 = nn.Linear(64,action_size)\n",
    "        self.softmax = nn.Softmax()\n",
    "        \n",
    "    def forward(self,state):\n",
    "        out = F.relu(self.linear1(state))\n",
    "        out = F.relu(self.linear2(out))\n",
    "        out = self.linear3(out)\n",
    "        out = self.softmax(out)\n",
    "        return out\n",
    "        "
   ]
  },
  {
   "cell_type": "code",
   "execution_count": 6,
   "metadata": {},
   "outputs": [],
   "source": [
    "class Replay_Memory:  \n",
    "    def __init__(self):\n",
    "        self.actions,self.states,self.next_state,self.logprobs,self.rewards,self.done = [],[],[],[],[],[]\n",
    "\n",
    "    def clear_mem(self):\n",
    "        del self.actions[:],self.next_state[:],self.states[:],self.logprobs[:],self.rewards[:],self.done[:]\n",
    "        \n",
    "    def update(self,reward, done):\n",
    "        self.rewards.append(reward)\n",
    "        self.done.append(done)"
   ]
  },
  {
   "cell_type": "code",
   "execution_count": 7,
   "metadata": {},
   "outputs": [],
   "source": [
    "class PPOagent():\n",
    "    def __init__(self,state_size,action_size,lr,betas,epochs,eps_clip,gamma):\n",
    "        self.actor = Actor(state_size,action_size) \n",
    "        self.critic = Critic(state_size,action_size)\n",
    "        self.optimizer_actor = torch.optim.Adam(self.actor.parameters(), lr=lr,betas=betas)\n",
    "        self.optimizer_critic = torch.optim.Adam(self.critic.parameters(), lr=lr)\n",
    "        self.Mseloss = nn.MSELoss()\n",
    "        self.epochs = epochs\n",
    "        self.epsclip = eps_clip\n",
    "        self.gamma = gamma\n",
    "        \n",
    "    def get_action(self,state,memory):\n",
    "        state = torch.from_numpy(state).float()\n",
    "        prob = self.actor.forward(state)\n",
    "        dist = torch.distributions.Categorical(probs=prob)\n",
    "        action = dist.sample()\n",
    "        memory.logprobs.append(dist.log_prob(action))\n",
    "        memory.actions.append(action)\n",
    "        memory.states.append(state)\n",
    "        return action,dist\n",
    "    \n",
    "    def update(self,memory):\n",
    "        rewards = []\n",
    "        Gt = 0 \n",
    "        for reward, done in zip(reversed(memory.rewards),reversed(memory.done)):\n",
    "            if done:\n",
    "                Gt = 0\n",
    "            Gt = reward + (self.gamma*Gt)\n",
    "            rewards.insert(0,Gt)\n",
    "            \n",
    "#         states = torch.FloatTensor(memory.states).detach()\n",
    "#         print(actions)\n",
    "#         actions = torch.FloatTensor(memory.actions).detach()\n",
    "#         logprobs = torch.FloatTensor(memory.logprobs).detach()\n",
    "\n",
    "        states = torch.stack(memory.states).detach()\n",
    "        actions = torch.stack(memory.actions).detach()\n",
    "        old_logprobs = torch.stack(memory.logprobs).detach()\n",
    "                              \n",
    "        for _ in range(self.epochs):\n",
    "            action_probs = self.actor.forward(states)\n",
    "            dist = Categorical(action_probs)\n",
    "            action_logprobs = dist.log_prob(actions)\n",
    "            dist_entropy = dist.entropy()\n",
    "            state_value = self.critic.forward(states)\n",
    "            state_value = torch.squeeze(state_value)\n",
    "               \n",
    "            ratio = torch.exp(action_logprobs - old_logprobs.detach())\n",
    "                \n",
    "            advantage = rewards - state_value.detach()\n",
    "            loss1 = ratios * advantages\n",
    "            loss2 = torch.clamp(ratio, 1-self.epsclip, 1+self.epsclip) * advantage\n",
    "            loss = -torch.min(loss1, loss2) + 0.5*self.Mseloss(state_value, rewards) - 0.01*dist_entropy\n",
    "            \n",
    "            self.optimizer_actor.zero_grad()\n",
    "            loss.mean().backward()\n",
    "            self.optimizer_actor.step()    \n",
    "    "
   ]
  },
  {
   "cell_type": "code",
   "execution_count": 8,
   "metadata": {},
   "outputs": [],
   "source": [
    "env = gym.make(\"CartPole-v1\")\n",
    "env.reset()\n",
    "# plt.imshow(env.render('rgb_array'))\n",
    "\n",
    "state_size = env.observation_space.shape[0]\n",
    "action_size = env.action_space.n\n"
   ]
  },
  {
   "cell_type": "code",
   "execution_count": 9,
   "metadata": {},
   "outputs": [],
   "source": [
    "env = gym.make('LunarLander-v2')\n",
    "env.reset()\n",
    "# plt.imshow(env.render('rgb_array'))\n",
    "state_size = env.observation_space.shape[0]\n",
    "action_size = env.action_space.n"
   ]
  },
  {
   "cell_type": "code",
   "execution_count": 8,
   "metadata": {},
   "outputs": [
    {
     "name": "stderr",
     "output_type": "stream",
     "text": [
      "/snap/jupyter/6/lib/python3.7/site-packages/ipykernel_launcher.py:26: UserWarning: Implicit dimension choice for softmax has been deprecated. Change the call to include dim=X as an argument.\n"
     ]
    },
    {
     "name": "stdout",
     "output_type": "stream",
     "text": [
      "Episode 0\n",
      "Last Episode Reward: 13.0\n",
      "----------\n"
     ]
    },
    {
     "name": "stderr",
     "output_type": "stream",
     "text": [
      "/home/josephdistefano/snap/jupyter/common/lib/python3.7/site-packages/torch/autograd/__init__.py:132: UserWarning: CUDA initialization: Found no NVIDIA driver on your system. Please check that you have an NVIDIA GPU and installed a driver from http://www.nvidia.com/Download/index.aspx (Triggered internally at  /pytorch/c10/cuda/CUDAFunctions.cpp:100.)\n",
      "  allow_unreachable=True)  # allow_unreachable flag\n"
     ]
    },
    {
     "name": "stdout",
     "output_type": "stream",
     "text": [
      "Episode 100\n",
      "Last Episode Reward: 18.0\n",
      "----------\n",
      "Episode 200\n",
      "Last Episode Reward: 11.0\n",
      "----------\n",
      "Episode 300\n",
      "Last Episode Reward: 78.0\n",
      "----------\n",
      "Episode 400\n",
      "Last Episode Reward: 66.0\n",
      "----------\n",
      "Episode 500\n",
      "Last Episode Reward: 79.0\n",
      "----------\n",
      "Episode 600\n",
      "Last Episode Reward: 205.0\n",
      "----------\n",
      "Episode 700\n",
      "Last Episode Reward: 120.0\n",
      "----------\n",
      "Episode 800\n",
      "Last Episode Reward: 203.0\n",
      "----------\n",
      "Episode 900\n",
      "Last Episode Reward: 500.0\n",
      "----------\n",
      "Episode 1000\n",
      "Last Episode Reward: 500.0\n",
      "----------\n",
      "Episode 1100\n",
      "Last Episode Reward: 432.0\n",
      "----------\n",
      "Episode 1200\n",
      "Last Episode Reward: 480.0\n",
      "----------\n",
      "Episode 1300\n",
      "Last Episode Reward: 500.0\n",
      "----------\n",
      "Episode 1400\n",
      "Last Episode Reward: 500.0\n",
      "----------\n",
      "Episode 1500\n",
      "Last Episode Reward: 500.0\n",
      "----------\n",
      "Episode 1600\n",
      "Last Episode Reward: 466.0\n",
      "----------\n",
      "Episode 1700\n",
      "Last Episode Reward: 500.0\n",
      "----------\n",
      "Episode 1800\n",
      "Last Episode Reward: 500.0\n",
      "----------\n",
      "Episode 1900\n",
      "Last Episode Reward: 500.0\n",
      "----------\n"
     ]
    }
   ],
   "source": [
    "num_episodes = 2000\n",
    "lr = 0.001\n",
    "gamma = 0.99\n",
    "update_timestep = 1000\n",
    "betas = (0.9, 0.999)\n",
    "K_epochs = 4               \n",
    "eps_clip = 0.2             \n",
    "agent = PPOagent(state_size, action_size,lr, betas, K_epochs, eps_clip,gamma)\n",
    "\n",
    "memory = Replay_Memory()\n",
    "\n",
    "episode_rewards = []\n",
    "rewards = []\n",
    "timestep = 0\n",
    "for episode in range(num_episodes):\n",
    "    state = env.reset()\n",
    "    rewards = []\n",
    "    done = False\n",
    "    logprobs = []\n",
    "\n",
    "    while not done:\n",
    "        timestep += 1\n",
    "        action = agent.get_action(state,memory)\n",
    "        next_state, reward, done, info = env.step(action[0].detach().data.numpy())\n",
    "        memory.update(reward, done)\n",
    "        rewards.append(reward)\n",
    "        state = next_state\n",
    "        \n",
    "        \n",
    "        if timestep % update_timestep == 0:\n",
    "            agent.update(memory)\n",
    "            memory.clear_mem()\n",
    "            timestep = 0\n",
    "        \n",
    "        \n",
    "        if done:\n",
    "            break\n",
    "\n",
    "    episode_rewards.append(np.sum(rewards))\n",
    "    if episode % 100 == 0:\n",
    "        \n",
    "        print('Episode {}'.format(episode))\n",
    "        print('Last Episode Reward: {}'.format(np.sum(rewards)))\n",
    "        print('-'*10)\n",
    "\n",
    "\n"
   ]
  },
  {
   "cell_type": "code",
   "execution_count": 9,
   "metadata": {},
   "outputs": [
    {
     "data": {
      "image/png": "[encoded data removed]",
      "text/plain": [
       "<Figure size 432x288 with 1 Axes>"
      ]
     },
     "metadata": {
      "needs_background": "light"
     },
     "output_type": "display_data"
    }
   ],
   "source": [
    "plt.plot(episode_rewards)\n",
    "plt.title(\"Total reward per episode\")\n",
    "plt.ylabel(\"reward\")\n",
    "plt.xlabel(\"episode\")\n",
    "plt.show()"
   ]
  },
  {
   "cell_type": "code",
   "execution_count": 10,
   "metadata": {},
   "outputs": [],
   "source": [
    "np.save('PPO_cartpole',episode_rewards)"
   ]
  },
  {
   "cell_type": "code",
   "execution_count": 44,
   "metadata": {},
   "outputs": [],
   "source": [
    "x = np.load('PPO_LunarLander.npy')"
   ]
  },
  {
   "cell_type": "code",
   "execution_count": 45,
   "metadata": {},
   "outputs": [
    {
     "data": {
      "image/png": "[encoded data removed]",
      "text/plain": [
       "<Figure size 432x288 with 1 Axes>"
      ]
     },
     "metadata": {
      "needs_background": "light"
     },
     "output_type": "display_data"
    }
   ],
   "source": []
  },
  {
   "cell_type": "code",
   "execution_count": null,
   "metadata": {},
   "outputs": [],
   "source": []
  }
 ],
 "metadata": {
  "kernelspec": {
   "display_name": "Python 3",
   "language": "python",
   "name": "python3"
  },
  "language_info": {
   "codemirror_mode": {
    "name": "ipython",
    "version": 3
   },
   "file_extension": ".py",
   "mimetype": "text/x-python",
   "name": "python",
   "nbconvert_exporter": "python",
   "pygments_lexer": "ipython3",
   "version": "3.7.3"
  }
 },
 "nbformat": 4,
 "nbformat_minor": 4
}
