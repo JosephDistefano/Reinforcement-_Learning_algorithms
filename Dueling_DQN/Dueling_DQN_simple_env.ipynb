{
 "cells": [
  {
   "cell_type": "code",
   "execution_count": 170,
   "metadata": {},
   "outputs": [],
   "source": [
    "\n",
    "import numpy as np\n",
    "import matplotlib.pyplot as plt\n",
    "import gym\n",
    "from gym import spaces\n",
    "import random\n",
    "import time\n",
    "import math\n",
    "\n",
    "\n",
    "import torch as T\n",
    "import torch.optim as optim\n",
    "import torch.nn as nn\n",
    "import torch.nn.functional as F\n",
    "from collections import deque, namedtuple\n",
    "\n",
    "# from keras.models import Sequential\n",
    "# from keras.layers import *\n",
    "# from keras.optimizers import *\n",
    "\n",
    "import matplotlib\n",
    "import matplotlib.pyplot as plt\n",
    "from matplotlib.image import imread\n",
    "from matplotlib import rc, animation\n",
    "from IPython import display\n",
    "from IPython.display import HTML\n",
    "%matplotlib inline\n"
   ]
  },
  {
   "cell_type": "code",
   "execution_count": 171,
   "metadata": {},
   "outputs": [],
   "source": [
    "class DQNmodel(nn.Module):\n",
    "    def __init__(self,state_size,action_size,lr):\n",
    "        super(DQNmodel, self).__init__()\n",
    "        self.linear1 = nn.Linear(state_size,256)\n",
    "        self.linear2 = nn.Linear(256, 256)\n",
    "        self.linear3V = nn.Linear(256, 1) \n",
    "        self.linear3A = nn.Linear(256,action_size)\n",
    "        \n",
    "        \n",
    "        self.optimizer = optim.Adam(self.parameters(), lr)\n",
    "        self.loss = nn.MSELoss()\n",
    "        \n",
    "        self.device = T.device('cuda:0' if T.cuda.is_available() else 'cpu')\n",
    "        self.to(self.device)\n",
    "\n",
    "    def forward(self, state):\n",
    "        state = T.Tensor(state).to(self.device)\n",
    "        out = self.linear1(state)\n",
    "        out = F.relu(out)\n",
    "        out = self.linear2(out)\n",
    "        out = F.relu(out)\n",
    "        outV = self.linear3V(out)\n",
    "        outA = self.linear3A(out)\n",
    "\n",
    "        return outV,outA"
   ]
  },
  {
   "cell_type": "code",
   "execution_count": 172,
   "metadata": {},
   "outputs": [],
   "source": [
    "class replay_buffer:\n",
    "    def __init__(self,mem_size,state_size,action_size,mem_cntr):\n",
    "        self.mem_size = mem_size\n",
    "        self.state_memory = np.zeros((self.mem_size, *[state_size]), dtype=np.float32)\n",
    "        self.new_state_memory = np.zeros((self.mem_size, *[state_size]), dtype=np.float32)\n",
    "        self.action_memory = np.zeros(self.mem_size, dtype=np.int64)\n",
    "        self.reward_memory = np.zeros(self.mem_size, dtype=np.float32)\n",
    "        self.terminal_memory = np.zeros(self.mem_size, dtype=np.uint8)\n",
    "        self.mem_cntr = mem_cntr\n",
    "        self.action_size = action_size\n",
    "        \n",
    "    def storeTransition(self, state, action, reward, state_, terminal):\n",
    "        index = self.mem_cntr % self.mem_size\n",
    "        self.state_memory[index] = state\n",
    "        self.new_state_memory[index] = state_\n",
    "        self.action_memory[index] = action\n",
    "        self.reward_memory[index] = reward\n",
    "        self.terminal_memory[index] = done\n",
    "        self.mem_cntr += 1\n",
    "        \n",
    "    def get_sample(self,batch_size):\n",
    "        max_mem = min(self.mem_cntr, self.mem_size)\n",
    "        batch = np.random.choice(max_mem, batch_size, replace=False)\n",
    "\n",
    "        state_batch = self.state_memory[batch]\n",
    "        action_batch = self.action_memory[batch]\n",
    "        reward_batch = self.reward_memory[batch]\n",
    "        new_state_batch = self.new_state_memory[batch]\n",
    "        terminal_batch = self.terminal_memory[batch]\n",
    "        \n",
    "        return state_batch,action_batch ,reward_batch,new_state_batch,terminal_batch"
   ]
  },
  {
   "cell_type": "code",
   "execution_count": 1,
   "metadata": {},
   "outputs": [],
   "source": [
    "class DQNAgent(object):\n",
    "    def __init__(self,state_size,action_size,lr,epsilon,batch_size,max_mem,mem_cntr):\n",
    "        self.gamma = 0.99\n",
    "        self.lr = lr\n",
    "        self.epsilon = epsilon\n",
    "        self.state_size = state_size\n",
    "        self.action_size = action_size\n",
    "        self.batch_size = batch_size\n",
    "        self.model = DQNmodel(state_size,action_size,self.lr)\n",
    "        self.model_target =  DQNmodel(state_size,action_size,self.lr)\n",
    "        self.memory = replay_buffer(max_mem,state_size,action_size,mem_cntr)\n",
    "        self.learn_step_counter = 0\n",
    "        self.replace_target_cnt = 1000\n",
    "        \n",
    "    def get_action(self, observation):\n",
    "        rand = np.random.random()\n",
    "        _,actions = self.model.forward(observation)\n",
    "        if rand > self.epsilon:\n",
    "            action = T.argmax(actions).item()\n",
    "        else:\n",
    "            action = np.random.choice(self.action_size)\n",
    "        return action\n",
    "    \n",
    "    def replace_target_network(self):\n",
    "        if self.replace_target_cnt is not None and \\\n",
    "           self.learn_step_counter % self.replace_target_cnt == 0:\n",
    "            self.model_target.load_state_dict(self.model.state_dict())\n",
    "    \n",
    "    def learn(self):\n",
    "        self.model.optimizer.zero_grad()\n",
    "        self.replace_target_network()\n",
    "        state_batch,action_batch, reward_batch,new_state_batch,terminal_batch = self.memory.get_sample(self.batch_size)\n",
    "       \n",
    "        state = T.tensor(state_batch).to(self.model.device)\n",
    "        new_state = T.tensor(new_state_batch).to(self.model.device)\n",
    "        action = T.tensor(action_batch).to(self.model.device)\n",
    "        rewards = T.tensor(reward_batch).to(self.model.device)\n",
    "        dones = T.tensor(terminal_batch).to(self.model.device)\n",
    "        \n",
    "        V_s, A_s = self.model.forward(state.float())\n",
    "        V_s_, A_s_ = self.model_target.forward(new_state.float())\n",
    "        q_pred = T.add(V_s, (A_s - A_s.mean(dim=1, keepdim=True))).gather(1,\n",
    "                                              action.unsqueeze(-1)).squeeze(-1)\n",
    "\n",
    "        q_next = T.add(V_s_, (A_s_ - A_s_.mean(dim=1, keepdim=True)))\n",
    "        q_target = rewards + self.gamma*T.max(q_next, dim=1)[0].detach()\n",
    "        q_target[dones] = 0.0\n",
    "\n",
    "        loss = self.model.loss(q_target, q_pred).to(self.model.device)\n",
    "        loss.backward()\n",
    "        self.model.optimizer.step()\n",
    "        self.learn_step_counter += 1\n",
    "        \n",
    "        \n",
    "    def update_epsilon(self,number_of_episodes):\n",
    "        self.epsilon = self.epsilon*(1-1/number_of_episodes)\n",
    "        return self.epsilon\n",
    "    \n",
    "    "
   ]
  },
  {
   "cell_type": "code",
   "execution_count": 174,
   "metadata": {},
   "outputs": [],
   "source": [
    "env = gym.make(\"CartPole-v1\")\n",
    "env.reset()\n",
    "# plt.imshow(env.render('rgb_array'))\n",
    "\n",
    "state_size = env.observation_space.shape[0]\n",
    "action_size = env.action_space.n"
   ]
  },
  {
   "cell_type": "code",
   "execution_count": 166,
   "metadata": {},
   "outputs": [],
   "source": [
    "env = gym.make('LunarLander-v2')\n",
    "env.reset()\n",
    "# plt.imshow(env.render('rgb_array'))\n",
    "state_size = env.observation_space.shape[0]\n",
    "action_size = env.action_space.n"
   ]
  },
  {
   "cell_type": "code",
   "execution_count": null,
   "metadata": {},
   "outputs": [
    {
     "name": "stdout",
     "output_type": "stream",
     "text": [
      "Episode 0\n",
      "Last Episode Reward: 22.0\n",
      "----------\n"
     ]
    },
    {
     "name": "stderr",
     "output_type": "stream",
     "text": [
      "/snap/jupyter/6/lib/python3.7/site-packages/ipykernel_launcher.py:49: UserWarning: indexing with dtype torch.uint8 is now deprecated, please use a dtype torch.bool instead. (Triggered internally at  /pytorch/aten/src/ATen/native/IndexingUtils.h:25.)\n"
     ]
    },
    {
     "name": "stdout",
     "output_type": "stream",
     "text": [
      "Episode 100\n",
      "Last Episode Reward: 9.0\n",
      "----------\n",
      "Episode 200\n",
      "Last Episode Reward: 25.0\n",
      "----------\n",
      "Episode 300\n",
      "Last Episode Reward: 141.0\n",
      "----------\n",
      "Episode 400\n",
      "Last Episode Reward: 403.0\n",
      "----------\n"
     ]
    }
   ],
   "source": [
    "lr = 0.001\n",
    "epsilon = 1\n",
    "batch_size = 64\n",
    "max_mem = 10000\n",
    "mem_cntr = 0\n",
    "count = 0\n",
    "num_episodes = 1000\n",
    "episode_rewards = []\n",
    "\n",
    "agent = DQNAgent(state_size,action_size,lr,epsilon,batch_size,max_mem,mem_cntr)\n",
    "\n",
    "for episode in range(num_episodes):\n",
    "    done = False\n",
    "    state = env.reset()\n",
    "    total_reward = 0\n",
    "    while not done:\n",
    "        action = agent.get_action(state)\n",
    "        next_state, reward, done, info = env.step(action) \n",
    "        agent.memory.storeTransition(state, action, reward,next_state,done)\n",
    "        state = next_state\n",
    "        total_reward += reward\n",
    "\n",
    "        if count > batch_size:\n",
    "            agent.learn()\n",
    "            agent.update_epsilon(num_episodes)\n",
    "        count = count + 1\n",
    "        \n",
    "        if done: \n",
    "            break\n",
    "    \n",
    "    episode_rewards.append(total_reward)\n",
    "    \n",
    "    if episode % 100 == 0:\n",
    "        \n",
    "        print('Episode {}'.format(episode))\n",
    "        print('Last Episode Reward: {}'.format(total_reward))\n",
    "        print('-'*10)"
   ]
  },
  {
   "cell_type": "code",
   "execution_count": 168,
   "metadata": {},
   "outputs": [
    {
     "data": {
      "image/png": "[encoded data removed]",
      "text/plain": [
       "<Figure size 432x288 with 1 Axes>"
      ]
     },
     "metadata": {
      "needs_background": "light"
     },
     "output_type": "display_data"
    }
   ],
   "source": [
    "plt.plot(episode_rewards)\n",
    "plt.title(\"Total reward per episode\")\n",
    "plt.ylabel(\"reward\")\n",
    "plt.xlabel(\"episode\")\n",
    "plt.show()"
   ]
  },
  {
   "cell_type": "code",
   "execution_count": 169,
   "metadata": {},
   "outputs": [],
   "source": [
    "np.save('DQN_LunarLander',episode_rewards)"
   ]
  },
  {
   "cell_type": "code",
   "execution_count": null,
   "metadata": {},
   "outputs": [],
   "source": []
  }
 ],
 "metadata": {
  "kernelspec": {
   "display_name": "Python 3",
   "language": "python",
   "name": "python3"
  },
  "language_info": {
   "codemirror_mode": {
    "name": "ipython",
    "version": 3
   },
   "file_extension": ".py",
   "mimetype": "text/x-python",
   "name": "python",
   "nbconvert_exporter": "python",
   "pygments_lexer": "ipython3",
   "version": "3.7.3"
  }
 },
 "nbformat": 4,
 "nbformat_minor": 2
}
